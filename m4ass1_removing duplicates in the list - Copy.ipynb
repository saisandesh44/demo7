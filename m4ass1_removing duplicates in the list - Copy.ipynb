{
 "cells": [
  {
   "cell_type": "code",
   "execution_count": 2,
   "metadata": {},
   "outputs": [
    {
     "name": "stdout",
     "output_type": "stream",
     "text": [
      "after removing the duplicate element in the list  [1, 2, 25, 7, 67, 58, 88]\n"
     ]
    }
   ],
   "source": [
    "def remove(dup):\n",
    "    final_list=[]\n",
    "    for num in dup:\n",
    "        if num not in final_list:\n",
    "           final_list.append(num)\n",
    "    return final_list \n",
    "dup=[1,2,2,2,25,7,67,58,88]\n",
    "print(\"after removing the duplicate element in the list \",remove(dup))"
   ]
  }
 ],
 "metadata": {
  "kernelspec": {
   "display_name": "Python 3",
   "language": "python",
   "name": "python3"
  },
  "language_info": {
   "codemirror_mode": {
    "name": "ipython",
    "version": 3
   },
   "file_extension": ".py",
   "mimetype": "text/x-python",
   "name": "python",
   "nbconvert_exporter": "python",
   "pygments_lexer": "ipython3",
   "version": "3.8.3"
  }
 },
 "nbformat": 4,
 "nbformat_minor": 4
}
