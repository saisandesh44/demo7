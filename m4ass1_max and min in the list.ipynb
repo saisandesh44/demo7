{
 "cells": [
  {
   "cell_type": "code",
   "execution_count": 2,
   "metadata": {},
   "outputs": [
    {
     "name": "stdout",
     "output_type": "stream",
     "text": [
      "largest nuumber in the list is  84\n",
      "smallest nuumber in the list is  1\n"
     ]
    }
   ],
   "source": [
    "list=[1,4,45,76,58,84,65,48]\n",
    "print(\"largest nuumber in the list is \",max(list))\n",
    "print(\"smallest nuumber in the list is \",min(list))"
   ]
  }
 ],
 "metadata": {
  "kernelspec": {
   "display_name": "Python 3",
   "language": "python",
   "name": "python3"
  },
  "language_info": {
   "codemirror_mode": {
    "name": "ipython",
    "version": 3
   },
   "file_extension": ".py",
   "mimetype": "text/x-python",
   "name": "python",
   "nbconvert_exporter": "python",
   "pygments_lexer": "ipython3",
   "version": "3.8.3"
  }
 },
 "nbformat": 4,
 "nbformat_minor": 4
}
